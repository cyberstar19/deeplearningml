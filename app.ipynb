{
 "cells": [
  {
   "cell_type": "code",
   "execution_count": 1,
   "id": "130ad9c0",
   "metadata": {},
   "outputs": [
    {
     "name": "stdout",
     "output_type": "stream",
     "text": [
      "Requirement already satisfied: streamlit in c:\\users\\saahi\\anaconda3\\lib\\site-packages (1.12.0)\n",
      "Requirement already satisfied: pillow>=6.2.0 in c:\\users\\saahi\\anaconda3\\lib\\site-packages (from streamlit) (8.4.0)\n",
      "Requirement already satisfied: tzlocal>=1.1 in c:\\users\\saahi\\anaconda3\\lib\\site-packages (from streamlit) (4.3)\n",
      "Requirement already satisfied: pydeck>=0.1.dev5 in c:\\users\\saahi\\anaconda3\\lib\\site-packages (from streamlit) (0.8.0)\n",
      "Requirement already satisfied: requests>=2.4 in c:\\users\\saahi\\anaconda3\\lib\\site-packages (from streamlit) (2.26.0)\n",
      "Requirement already satisfied: tornado>=5.0 in c:\\users\\saahi\\anaconda3\\lib\\site-packages (from streamlit) (6.1)\n",
      "Requirement already satisfied: pympler>=0.9 in c:\\users\\saahi\\anaconda3\\lib\\site-packages (from streamlit) (1.0.1)\n",
      "Requirement already satisfied: typing-extensions>=3.10.0.0 in c:\\users\\saahi\\anaconda3\\lib\\site-packages (from streamlit) (3.10.0.2)\n",
      "Requirement already satisfied: click>=7.0 in c:\\users\\saahi\\anaconda3\\lib\\site-packages (from streamlit) (8.0.3)\n",
      "Requirement already satisfied: watchdog in c:\\users\\saahi\\anaconda3\\lib\\site-packages (from streamlit) (2.1.3)\n",
      "Requirement already satisfied: python-dateutil in c:\\users\\saahi\\anaconda3\\lib\\site-packages (from streamlit) (2.8.2)\n",
      "Requirement already satisfied: validators>=0.2 in c:\\users\\saahi\\anaconda3\\lib\\site-packages (from streamlit) (0.20.0)\n",
      "Requirement already satisfied: blinker>=1.0.0 in c:\\users\\saahi\\anaconda3\\lib\\site-packages (from streamlit) (1.6)\n",
      "Requirement already satisfied: gitpython!=3.1.19 in c:\\users\\saahi\\anaconda3\\lib\\site-packages (from streamlit) (3.1.31)\n",
      "Requirement already satisfied: pyarrow>=4.0 in c:\\users\\saahi\\anaconda3\\lib\\site-packages (from streamlit) (11.0.0)\n",
      "Requirement already satisfied: cachetools>=4.0 in c:\\users\\saahi\\anaconda3\\lib\\site-packages (from streamlit) (5.3.0)\n",
      "Requirement already satisfied: pandas>=0.21.0 in c:\\users\\saahi\\anaconda3\\lib\\site-packages (from streamlit) (1.3.4)\n",
      "Requirement already satisfied: packaging>=14.1 in c:\\users\\saahi\\anaconda3\\lib\\site-packages (from streamlit) (21.0)\n",
      "Requirement already satisfied: numpy in c:\\users\\saahi\\anaconda3\\lib\\site-packages (from streamlit) (1.20.3)\n",
      "Requirement already satisfied: protobuf<4,>=3.12 in c:\\users\\saahi\\anaconda3\\lib\\site-packages (from streamlit) (3.20.3)\n",
      "Requirement already satisfied: altair>=3.2.0 in c:\\users\\saahi\\anaconda3\\lib\\site-packages (from streamlit) (4.2.2)\n",
      "Requirement already satisfied: toml in c:\\users\\saahi\\anaconda3\\lib\\site-packages (from streamlit) (0.10.2)\n",
      "Requirement already satisfied: importlib-metadata>=1.4 in c:\\users\\saahi\\anaconda3\\lib\\site-packages (from streamlit) (4.8.1)\n",
      "Requirement already satisfied: semver in c:\\users\\saahi\\anaconda3\\lib\\site-packages (from streamlit) (3.0.0)\n",
      "Requirement already satisfied: rich>=10.11.0 in c:\\users\\saahi\\anaconda3\\lib\\site-packages (from streamlit) (13.3.3)\n",
      "Requirement already satisfied: jinja2 in c:\\users\\saahi\\anaconda3\\lib\\site-packages (from altair>=3.2.0->streamlit) (3.1.2)\n",
      "Requirement already satisfied: toolz in c:\\users\\saahi\\anaconda3\\lib\\site-packages (from altair>=3.2.0->streamlit) (0.11.1)\n",
      "Requirement already satisfied: entrypoints in c:\\users\\saahi\\anaconda3\\lib\\site-packages (from altair>=3.2.0->streamlit) (0.3)\n",
      "Requirement already satisfied: jsonschema>=3.0 in c:\\users\\saahi\\anaconda3\\lib\\site-packages (from altair>=3.2.0->streamlit) (3.2.0)\n",
      "Requirement already satisfied: colorama in c:\\users\\saahi\\anaconda3\\lib\\site-packages (from click>=7.0->streamlit) (0.4.4)\n",
      "Requirement already satisfied: gitdb<5,>=4.0.1 in c:\\users\\saahi\\anaconda3\\lib\\site-packages (from gitpython!=3.1.19->streamlit) (4.0.10)\n",
      "Requirement already satisfied: zipp>=0.5 in c:\\users\\saahi\\anaconda3\\lib\\site-packages (from importlib-metadata>=1.4->streamlit) (3.6.0)\n",
      "Requirement already satisfied: pyparsing>=2.0.2 in c:\\users\\saahi\\anaconda3\\lib\\site-packages (from packaging>=14.1->streamlit) (3.0.4)\n",
      "Requirement already satisfied: pytz>=2017.3 in c:\\users\\saahi\\anaconda3\\lib\\site-packages (from pandas>=0.21.0->streamlit) (2021.3)\n",
      "Requirement already satisfied: six>=1.5 in c:\\users\\saahi\\anaconda3\\lib\\site-packages (from python-dateutil->streamlit) (1.16.0)\n",
      "Requirement already satisfied: urllib3<1.27,>=1.21.1 in c:\\users\\saahi\\anaconda3\\lib\\site-packages (from requests>=2.4->streamlit) (1.26.7)\n",
      "Requirement already satisfied: charset-normalizer~=2.0.0 in c:\\users\\saahi\\anaconda3\\lib\\site-packages (from requests>=2.4->streamlit) (2.0.4)\n",
      "Requirement already satisfied: certifi>=2017.4.17 in c:\\users\\saahi\\anaconda3\\lib\\site-packages (from requests>=2.4->streamlit) (2021.10.8)\n",
      "Requirement already satisfied: idna<4,>=2.5 in c:\\users\\saahi\\anaconda3\\lib\\site-packages (from requests>=2.4->streamlit) (3.2)\n",
      "Requirement already satisfied: pygments<3.0.0,>=2.13.0 in c:\\users\\saahi\\anaconda3\\lib\\site-packages (from rich>=10.11.0->streamlit) (2.14.0)\n",
      "Requirement already satisfied: markdown-it-py<3.0.0,>=2.2.0 in c:\\users\\saahi\\anaconda3\\lib\\site-packages (from rich>=10.11.0->streamlit) (2.2.0)\n",
      "Requirement already satisfied: pytz-deprecation-shim in c:\\users\\saahi\\anaconda3\\lib\\site-packages (from tzlocal>=1.1->streamlit) (0.1.0.post0)\n",
      "Requirement already satisfied: tzdata in c:\\users\\saahi\\anaconda3\\lib\\site-packages (from tzlocal>=1.1->streamlit) (2023.3)\n",
      "Requirement already satisfied: decorator>=3.4.0 in c:\\users\\saahi\\anaconda3\\lib\\site-packages (from validators>=0.2->streamlit) (5.1.0)\n",
      "Requirement already satisfied: smmap<6,>=3.0.1 in c:\\users\\saahi\\anaconda3\\lib\\site-packages (from gitdb<5,>=4.0.1->gitpython!=3.1.19->streamlit) (5.0.0)\n",
      "Requirement already satisfied: MarkupSafe>=2.0 in c:\\users\\saahi\\anaconda3\\lib\\site-packages (from jinja2->altair>=3.2.0->streamlit) (2.1.2)\n",
      "Requirement already satisfied: attrs>=17.4.0 in c:\\users\\saahi\\anaconda3\\lib\\site-packages (from jsonschema>=3.0->altair>=3.2.0->streamlit) (21.2.0)\n",
      "Requirement already satisfied: setuptools in c:\\users\\saahi\\anaconda3\\lib\\site-packages (from jsonschema>=3.0->altair>=3.2.0->streamlit) (67.6.1)\n",
      "Requirement already satisfied: pyrsistent>=0.14.0 in c:\\users\\saahi\\anaconda3\\lib\\site-packages (from jsonschema>=3.0->altair>=3.2.0->streamlit) (0.18.0)\n",
      "Requirement already satisfied: mdurl~=0.1 in c:\\users\\saahi\\anaconda3\\lib\\site-packages (from markdown-it-py<3.0.0,>=2.2.0->rich>=10.11.0->streamlit) (0.1.2)\n"
     ]
    }
   ],
   "source": [
    "!pip install streamlit"
   ]
  },
  {
   "cell_type": "code",
   "execution_count": 2,
   "id": "740417de",
   "metadata": {},
   "outputs": [
    {
     "name": "stderr",
     "output_type": "stream",
     "text": [
      "2023-04-04 08:45:18.280 INFO    numexpr.utils: NumExpr defaulting to 8 threads.\n"
     ]
    }
   ],
   "source": [
    "import streamlit as st"
   ]
  },
  {
   "cell_type": "code",
   "execution_count": 3,
   "id": "6bb126d4",
   "metadata": {},
   "outputs": [],
   "source": [
    "import pickle\n",
    "import string\n",
    "from nltk.corpus import stopwords\n",
    "import nltk\n",
    "from nltk.stem.porter import PorterStemmer\n",
    "import pandas as pd\n",
    "import numpy as np"
   ]
  },
  {
   "cell_type": "code",
   "execution_count": 4,
   "id": "ebb3fc93",
   "metadata": {},
   "outputs": [],
   "source": [
    "ps = PorterStemmer()"
   ]
  },
  {
   "cell_type": "code",
   "execution_count": 5,
   "id": "951ba1ce",
   "metadata": {},
   "outputs": [],
   "source": [
    "def transform_text(text):\n",
    "    text = text.lower()\n",
    "    text = nltk.word_tokenize(text)\n",
    "\n",
    "    y = []\n",
    "    for i in text:\n",
    "        if i.isalnum():\n",
    "            y.append(i)\n",
    "\n",
    "    text = y[:]\n",
    "    y.clear()\n",
    "\n",
    "    for i in text:\n",
    "        if i not in stopwords.words('english') and i not in string.punctuation:\n",
    "            y.append(i)\n",
    "\n",
    "    text = y[:]\n",
    "    y.clear()\n",
    "\n",
    "    for i in text:\n",
    "        y.append(ps.stem(i))\n",
    "\n",
    "    return \" \".join(y)"
   ]
  },
  {
   "cell_type": "code",
   "execution_count": 7,
   "id": "a896fef7",
   "metadata": {},
   "outputs": [],
   "source": [
    "tfidf=pickle.load(open('vectorizer.pkl','rb'))\n",
    "model=pickle.load(open('model.pkl','rb'))"
   ]
  },
  {
   "cell_type": "code",
   "execution_count": 8,
   "id": "67357525",
   "metadata": {},
   "outputs": [
    {
     "name": "stderr",
     "output_type": "stream",
     "text": [
      "2023-04-04 08:49:02.924 \n",
      "  \u001b[33m\u001b[1mWarning:\u001b[0m to view this Streamlit app on a browser, run it with the following\n",
      "  command:\n",
      "\n",
      "    streamlit run C:\\Users\\saahi\\anaconda3\\lib\\site-packages\\ipykernel_launcher.py [ARGUMENTS]\n"
     ]
    },
    {
     "data": {
      "text/plain": [
       "DeltaGenerator(_root_container=0, _provided_cursor=None, _parent=None, _block_type=None, _form_data=None)"
      ]
     },
     "execution_count": 8,
     "metadata": {},
     "output_type": "execute_result"
    }
   ],
   "source": [
    "st.title('SMS Classifier')"
   ]
  },
  {
   "cell_type": "code",
   "execution_count": 9,
   "id": "23bcf87c",
   "metadata": {},
   "outputs": [],
   "source": [
    "input_sms=st.text_area(\"Enter the message\")"
   ]
  },
  {
   "cell_type": "code",
   "execution_count": 11,
   "id": "0e3e3174",
   "metadata": {},
   "outputs": [],
   "source": [
    "if st.button('Predict'):\n",
    "    transformed_sms=transform_text(input_sms)\n",
    "    vectorinput=tfidf.transform([transformed_sms])\n",
    "    result=model.predict(vectorinput)[0]\n",
    "    \n",
    "    if result==1:\n",
    "        st.header(\"Spam\")\n",
    "    else:\n",
    "        st.header(\"Not Spam\")"
   ]
  },
  {
   "cell_type": "code",
   "execution_count": null,
   "id": "1ad9337e",
   "metadata": {},
   "outputs": [],
   "source": []
  }
 ],
 "metadata": {
  "kernelspec": {
   "display_name": "Python 3 (ipykernel)",
   "language": "python",
   "name": "python3"
  },
  "language_info": {
   "codemirror_mode": {
    "name": "ipython",
    "version": 3
   },
   "file_extension": ".py",
   "mimetype": "text/x-python",
   "name": "python",
   "nbconvert_exporter": "python",
   "pygments_lexer": "ipython3",
   "version": "3.9.7"
  }
 },
 "nbformat": 4,
 "nbformat_minor": 5
}
